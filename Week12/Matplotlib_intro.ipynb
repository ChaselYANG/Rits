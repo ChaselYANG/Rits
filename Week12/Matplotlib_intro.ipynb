{
 "cells": [
  {
   "cell_type": "markdown",
   "id": "0bda6b87",
   "metadata": {},
   "source": [
    "# Introduction to Matplotlib and Pyplot\n",
    "Basic usage of Matplotlib"
   ]
  },
  {
   "cell_type": "code",
   "execution_count": null,
   "id": "941581ab",
   "metadata": {},
   "outputs": [],
   "source": [
    "import numpy as np\n",
    "import pandas as pd\n",
    "import matplotlib.pyplot as plt #pyplot is a collection of useful functions for plotting, customarly imported as plt"
   ]
  },
  {
   "cell_type": "markdown",
   "id": "eaac565b",
   "metadata": {},
   "source": [
    "If you provide a single list or array/list, matplotlib assumes it is a sequence of y values, and automatically generates the x values for you:"
   ]
  },
  {
   "cell_type": "code",
   "execution_count": null,
   "id": "90d35f0e",
   "metadata": {},
   "outputs": [],
   "source": [
    "plt.plot([1, 4, 0, 4, 3])\n",
    "plt.ylabel('Numbers') #label for y axis\n",
    "plt.show() #show the plot"
   ]
  },
  {
   "cell_type": "markdown",
   "id": "31c4d8fd",
   "metadata": {},
   "source": [
    "x values provided explicitly:"
   ]
  },
  {
   "cell_type": "code",
   "execution_count": null,
   "id": "0288efe9",
   "metadata": {},
   "outputs": [],
   "source": [
    "plt.plot([1, 5, 8, 9.5], [1, 4, 9, 16]) #both x and y are provided, no labels\n",
    "plt.show()"
   ]
  },
  {
   "cell_type": "markdown",
   "id": "3b69baed",
   "metadata": {},
   "source": [
    "There is an optional third argument which is the format string that indicates the color and line type of the plot. The default format string is 'b-', which is a solid blue line (check documentation for more details). Using red circles:"
   ]
  },
  {
   "cell_type": "code",
   "execution_count": null,
   "id": "101e9e13",
   "metadata": {},
   "outputs": [],
   "source": [
    "plt.plot([1, 5, 8, 9.5], [1, 4, 9, 16], 'ro') #red circles\n",
    "plt.axis([0, 10, 0, 20]) #takes a list of [xmin, xmax, ymin, ymax] and specifies the viewport of the axes\n",
    "plt.show()"
   ]
  },
  {
   "cell_type": "markdown",
   "id": "c2ab13c3",
   "metadata": {},
   "source": [
    "Matplotlib allows you provide such an object with\n",
    "the ``data`` keyword argument. If provided, then you may generate plots with\n",
    "the strings corresponding to these variables."
   ]
  },
  {
   "cell_type": "code",
   "execution_count": null,
   "id": "47dbb222",
   "metadata": {},
   "outputs": [],
   "source": [
    "data = {'a': np.arange(30), #x to plot \n",
    "        'color_random': np.random.randint(0, 30, 30), #this will be used for colors\n",
    "        'size': 56} #this will be used for marker size\n",
    "data['b'] = data['a'] + 10 * np.random.randn(30) #adding y to data\n",
    "\n",
    "plt.scatter('a', 'b', c='color_random', s='size', data=data) #creating scatter plot, check documentation for details\n",
    "plt.xlabel('label for a') #label at the x axis\n",
    "plt.ylabel('label for b') #label at the y axis\n",
    "plt.show()"
   ]
  },
  {
   "cell_type": "markdown",
   "id": "8cdaffdd",
   "metadata": {},
   "source": [
    "The figsize attribute allows us to specify the width and height of a figure in unit inches. The number of pixels per unit inch can be changed by the parameter dpi. Check documentation for more details. \n",
    "\n",
    "You can create a plot using categorical variables:"
   ]
  },
  {
   "cell_type": "code",
   "execution_count": null,
   "id": "003e68cd",
   "metadata": {},
   "outputs": [],
   "source": [
    "names = ['Daniel', 'Bob', 'Josh']\n",
    "values = [10, 20, 50]\n",
    "\n",
    "plt.figure(figsize=(9, 3), dpi=80) #creating a figure explicitly, where the size is defined\n",
    "\n",
    "#creating subplots, and defining their positions by numbers\n",
    "#for example, 132 means 1x3 grid, 2th subplot. 234 would mean 2x3 grid, 4th subplot\n",
    "plt.subplot(131) #1st in the 1x3 grid\n",
    "plt.bar(names, values) #bar plot\n",
    "plt.subplot(132) #2nd in the 1x3 grid\n",
    "plt.scatter(names, values) #scatter plot\n",
    "plt.subplot(133) #3rd in the 1x3 grid\n",
    "#line plot with defining the linewidth and color (check documentation for more details)\n",
    "plt.plot(names, values, linewidth=3.5, color='r') \n",
    "plt.suptitle('Plotting involving categorical variables in subplots') #title of the subplot\n",
    "plt.show()"
   ]
  },
  {
   "cell_type": "markdown",
   "id": "a05042f7",
   "metadata": {},
   "source": [
    "Instead of using subplots, you can plot to the same figure. \n",
    "\n",
    "constrained_layout automatically adjusts plots, legends, etc. so they can fit in the figure window while still preserving the logical layout requested by the user."
   ]
  },
  {
   "cell_type": "code",
   "execution_count": null,
   "id": "c71fc39e",
   "metadata": {},
   "outputs": [],
   "source": [
    "x = np.linspace(0, 2, 200)  # Sample data.\n",
    "\n",
    "plt.figure(figsize=(5, 3), constrained_layout=True) #change fiure size and set the layout\n",
    "plt.plot(x, x, label='linear')  #same data for x and y\n",
    "plt.plot(x, x**2, label='quadratic')  #plot data to the same figure, not set y as x**2\n",
    "plt.plot(x, x**3, label='cubic') #plot data to the same figure, not set y as x**3\n",
    "plt.xlabel('x label')\n",
    "plt.ylabel('y label')\n",
    "plt.title(\"Our plot\")\n",
    "plt.legend() #show a legend on a figure (here it will be the top left corner)\n",
    "plt.show()"
   ]
  },
  {
   "cell_type": "markdown",
   "id": "cbf1bd10",
   "metadata": {},
   "source": [
    "Subplots can be created explicitly, defining the size with number of rows x number of columns"
   ]
  },
  {
   "cell_type": "code",
   "execution_count": null,
   "id": "65e74bd4",
   "metadata": {},
   "outputs": [],
   "source": [
    "data = np.random.randn(100) #create 100 random numbers\n",
    "xdata = np.arange(len(data))  # make ordinal data for the x axis"
   ]
  },
  {
   "cell_type": "code",
   "execution_count": null,
   "id": "7ccc36ea",
   "metadata": {},
   "outputs": [],
   "source": [
    "data"
   ]
  },
  {
   "cell_type": "code",
   "execution_count": null,
   "id": "531394fd",
   "metadata": {},
   "outputs": [],
   "source": [
    "xdata"
   ]
  },
  {
   "cell_type": "code",
   "execution_count": null,
   "id": "2b977bc3",
   "metadata": {},
   "outputs": [],
   "source": [
    "fig, axs = plt.subplots(2, 1, constrained_layout=True) #creating 2x1 subplots in constrained layout\n",
    "axs[0].plot(xdata, data) #plot the data to the first subplot (index 9)\n",
    "axs[0].set_title('Automatic ticks') #set title\n",
    "\n",
    "axs[1].plot(xdata, data) #same plot to the second subplot\n",
    "#show at 0, 30, 60, 90\n",
    "axs[1].set_xticks(np.arange(0, 100, 30)) \n",
    "axs[1].set_yticks([-1.5, 0, 1.5]) \n",
    "axs[1].set_title('Ticks changed')\n",
    "plt.show()"
   ]
  },
  {
   "cell_type": "markdown",
   "id": "197b00f3",
   "metadata": {},
   "source": [
    "You can add free text to an arbitrary location.\n",
    "(Any kind of text can be added, but here with the r'$...$' notation Tex math notation is used. Check documentation for details.)"
   ]
  },
  {
   "cell_type": "code",
   "execution_count": null,
   "id": "cf2d240a",
   "metadata": {},
   "outputs": [],
   "source": [
    "mu, sigma = 100, 15 # mean and standard deviation\n",
    "x = np.random.normal(mu, sigma, 10000) #draw random samples from a normal (Gaussian) distribution\n",
    "\n",
    "#bins defines the number of equal-width bins in the range, density=True returns a probability density, alpha sets the opacity\n",
    "#check the documentation for details\n",
    "plt.hist(x, bins=100, density=True, color='g', alpha=0.75) \n",
    "\n",
    "plt.xlabel('Values')\n",
    "plt.ylabel('Probability')\n",
    "plt.title('Normal distribution histogram')\n",
    "plt.text(60, .025, r'$\\mu=100,\\ \\sigma=15$') #add text at a certain location\n",
    "plt.axis([40, 160, 0, 0.03]) #set plot ranges for x and y\n",
    "plt.grid(True) #show grid\n",
    "plt.savefig('our_figure.jpg', format=\"jpg\", dpi=300) #save the figure in a specific format and quality\n",
    "plt.show() #if you show save and show the figure, saving must be done before .show()"
   ]
  },
  {
   "cell_type": "markdown",
   "id": "99367844",
   "metadata": {},
   "source": [
    "There are multiple ways plots can be created from dataframes. Here is a simple example involving dates"
   ]
  },
  {
   "cell_type": "code",
   "execution_count": null,
   "id": "6ce67348",
   "metadata": {},
   "outputs": [],
   "source": [
    "#here, the dates are still in raw text\n",
    "df = pd.DataFrame({'name':['alice', 'bob', 'charlie', 'david', 'edward', 'felicia'],\n",
    "                   'admission_date':['2021-10-30', '2022-01-20', '2022-04-25',\n",
    "                                        '2022-03-25', '2021-10-28', '2022-02-25']})"
   ]
  },
  {
   "cell_type": "code",
   "execution_count": null,
   "id": "84836c40",
   "metadata": {},
   "outputs": [],
   "source": [
    "df"
   ]
  },
  {
   "cell_type": "code",
   "execution_count": null,
   "id": "6ad98cd3",
   "metadata": {},
   "outputs": [],
   "source": [
    "#both column's dtype will be \"object\" since it's just text (strings)\n",
    "df.dtypes"
   ]
  },
  {
   "cell_type": "code",
   "execution_count": null,
   "id": "f9008af2",
   "metadata": {},
   "outputs": [],
   "source": [
    "#convert the column with dates to \"datetime\" type\n",
    "df['admission_date'] = pd.to_datetime(df['admission_date'])"
   ]
  },
  {
   "cell_type": "code",
   "execution_count": null,
   "id": "6d654ca2",
   "metadata": {},
   "outputs": [],
   "source": [
    "#no change visually, but the type of the admission_date column has changed\n",
    "df"
   ]
  },
  {
   "cell_type": "code",
   "execution_count": null,
   "id": "335beec1",
   "metadata": {},
   "outputs": [],
   "source": [
    "df.dtypes"
   ]
  },
  {
   "cell_type": "code",
   "execution_count": null,
   "id": "92477847",
   "metadata": {},
   "outputs": [],
   "source": [
    "df = df.set_index(\"admission_date\") #changing the index to the dates\n",
    "df"
   ]
  },
  {
   "cell_type": "code",
   "execution_count": null,
   "id": "96c24ac0",
   "metadata": {},
   "outputs": [],
   "source": [
    "plt.plot(df[\"name\"],'go') #simple plot with green circles\n",
    "plt.xlabel('Dates')\n",
    "plt.ylabel('Names')\n",
    "plt.title('Admission dates')\n",
    "plt.show()"
   ]
  },
  {
   "cell_type": "markdown",
   "id": "0e1f8d6f",
   "metadata": {},
   "source": [
    "Another example with dataframes: passing the dataframe as a keyword argument to a scatter plot"
   ]
  },
  {
   "cell_type": "code",
   "execution_count": null,
   "id": "67b8ea69",
   "metadata": {},
   "outputs": [],
   "source": [
    "df = pd.DataFrame({'number_1':[1,2,5,7,15], 'number_2':[4.3,5.3,2.4,5,6]})\n",
    "df"
   ]
  },
  {
   "cell_type": "code",
   "execution_count": null,
   "id": "0d460789",
   "metadata": {},
   "outputs": [],
   "source": [
    "plt.scatter('number_1', 'number_2', s=35, data=df)\n",
    "plt.show()"
   ]
  },
  {
   "cell_type": "code",
   "execution_count": null,
   "id": "bd805bf3",
   "metadata": {},
   "outputs": [],
   "source": []
  }
 ],
 "metadata": {
  "kernelspec": {
   "display_name": "Python 3 (ipykernel)",
   "language": "python",
   "name": "python3"
  },
  "language_info": {
   "codemirror_mode": {
    "name": "ipython",
    "version": 3
   },
   "file_extension": ".py",
   "mimetype": "text/x-python",
   "name": "python",
   "nbconvert_exporter": "python",
   "pygments_lexer": "ipython3",
   "version": "3.9.7"
  }
 },
 "nbformat": 4,
 "nbformat_minor": 5
}
